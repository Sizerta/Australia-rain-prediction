{
  "nbformat": 4,
  "nbformat_minor": 0,
  "metadata": {
    "colab": {
      "name": "A.ipynb",
      "provenance": [],
      "collapsed_sections": [],
      "mount_file_id": "1VKXNMePH4PVlhWQU2RiM_yKTF2YlTN2w",
      "authorship_tag": "ABX9TyMQs0/of9OHwxZUtJVPIQxN",
      "include_colab_link": true
    },
    "kernelspec": {
      "name": "python3",
      "display_name": "Python 3"
    },
    "language_info": {
      "name": "python"
    }
  },
  "cells": [
    {
      "cell_type": "markdown",
      "metadata": {
        "id": "view-in-github",
        "colab_type": "text"
      },
      "source": [
        "<a href=\"https://colab.research.google.com/github/Sizerta/Australia-rain-prediction/blob/main/RainPredictionSizerta.ipynb\" target=\"_parent\"><img src=\"https://colab.research.google.com/assets/colab-badge.svg\" alt=\"Open In Colab\"/></a>"
      ]
    },
    {
      "cell_type": "code",
      "metadata": {
        "id": "vNs-ifZxL_6F"
      },
      "source": [
        "\n",
        "import numpy as np # linear algebra\n",
        "import pandas as pd # data processing, CSV file I/O (e.g. pd.read_csv)\n",
        "import matplotlib.pyplot as plt # data visualization\n",
        "import seaborn as sns # statistical data visualization\n",
        "%matplotlib inline\n",
        "\n",
        "# Input data files are available in the \"../input/\" directory.\n",
        "# For example, running this (by clicking run or pressing Shift+Enter) will list all files under the input directory\n"
      ],
      "execution_count": 4,
      "outputs": []
    },
    {
      "cell_type": "code",
      "metadata": {
        "id": "XXcoa5whMAjJ"
      },
      "source": [
        "import warnings\n",
        "\n",
        "warnings.filterwarnings('ignore')"
      ],
      "execution_count": null,
      "outputs": []
    },
    {
      "cell_type": "code",
      "metadata": {
        "id": "gT8ZM_9gMD_o"
      },
      "source": [
        "data = '/content/drive/MyDrive/Colab Notebooks/weatherAUS.csv'\n",
        "\n",
        "df = pd.read_csv(data)"
      ],
      "execution_count": 5,
      "outputs": []
    },
    {
      "cell_type": "code",
      "metadata": {
        "execution": {
          "iopub.execute_input": "2021-03-07T17:40:04.608839Z",
          "iopub.status.busy": "2021-03-07T17:40:04.608019Z",
          "iopub.status.idle": "2021-03-07T17:40:04.905996Z",
          "shell.execute_reply": "2021-03-07T17:40:04.905255Z"
        },
        "papermill": {
          "duration": 0.319698,
          "end_time": "2021-03-07T17:40:04.906119",
          "exception": false,
          "start_time": "2021-03-07T17:40:04.586421",
          "status": "completed"
        },
        "tags": [],
        "trusted": true,
        "id": "FdkShGPeTZUh",
        "colab": {
          "base_uri": "https://localhost:8080/",
          "height": 754
        },
        "outputId": "495fba59-16df-4266-ae87-3d661bb3381d"
      },
      "source": [
        "zeros_cnt = df.isnull().sum().sort_values(ascending=False)\n",
        "percent_zeros = (df.isnull().sum() / df.isnull().count()).sort_values(ascending=False)\n",
        "\n",
        "missing_data = pd.concat([zeros_cnt, percent_zeros], axis=1, keys=['Total', 'Percent'])\n",
        "missing_data\n",
        "#missing_data.T"
      ],
      "execution_count": 6,
      "outputs": [
        {
          "output_type": "execute_result",
          "data": {
            "text/html": [
              "<div>\n",
              "<style scoped>\n",
              "    .dataframe tbody tr th:only-of-type {\n",
              "        vertical-align: middle;\n",
              "    }\n",
              "\n",
              "    .dataframe tbody tr th {\n",
              "        vertical-align: top;\n",
              "    }\n",
              "\n",
              "    .dataframe thead th {\n",
              "        text-align: right;\n",
              "    }\n",
              "</style>\n",
              "<table border=\"1\" class=\"dataframe\">\n",
              "  <thead>\n",
              "    <tr style=\"text-align: right;\">\n",
              "      <th></th>\n",
              "      <th>Total</th>\n",
              "      <th>Percent</th>\n",
              "    </tr>\n",
              "  </thead>\n",
              "  <tbody>\n",
              "    <tr>\n",
              "      <th>Sunshine</th>\n",
              "      <td>69835</td>\n",
              "      <td>0.480098</td>\n",
              "    </tr>\n",
              "    <tr>\n",
              "      <th>Evaporation</th>\n",
              "      <td>62790</td>\n",
              "      <td>0.431665</td>\n",
              "    </tr>\n",
              "    <tr>\n",
              "      <th>Cloud3pm</th>\n",
              "      <td>59358</td>\n",
              "      <td>0.408071</td>\n",
              "    </tr>\n",
              "    <tr>\n",
              "      <th>Cloud9am</th>\n",
              "      <td>55888</td>\n",
              "      <td>0.384216</td>\n",
              "    </tr>\n",
              "    <tr>\n",
              "      <th>Pressure9am</th>\n",
              "      <td>15065</td>\n",
              "      <td>0.103568</td>\n",
              "    </tr>\n",
              "    <tr>\n",
              "      <th>Pressure3pm</th>\n",
              "      <td>15028</td>\n",
              "      <td>0.103314</td>\n",
              "    </tr>\n",
              "    <tr>\n",
              "      <th>WindDir9am</th>\n",
              "      <td>10566</td>\n",
              "      <td>0.072639</td>\n",
              "    </tr>\n",
              "    <tr>\n",
              "      <th>WindGustDir</th>\n",
              "      <td>10326</td>\n",
              "      <td>0.070989</td>\n",
              "    </tr>\n",
              "    <tr>\n",
              "      <th>WindGustSpeed</th>\n",
              "      <td>10263</td>\n",
              "      <td>0.070555</td>\n",
              "    </tr>\n",
              "    <tr>\n",
              "      <th>Humidity3pm</th>\n",
              "      <td>4507</td>\n",
              "      <td>0.030984</td>\n",
              "    </tr>\n",
              "    <tr>\n",
              "      <th>WindDir3pm</th>\n",
              "      <td>4228</td>\n",
              "      <td>0.029066</td>\n",
              "    </tr>\n",
              "    <tr>\n",
              "      <th>Temp3pm</th>\n",
              "      <td>3609</td>\n",
              "      <td>0.024811</td>\n",
              "    </tr>\n",
              "    <tr>\n",
              "      <th>RainTomorrow</th>\n",
              "      <td>3267</td>\n",
              "      <td>0.022460</td>\n",
              "    </tr>\n",
              "    <tr>\n",
              "      <th>RainToday</th>\n",
              "      <td>3261</td>\n",
              "      <td>0.022419</td>\n",
              "    </tr>\n",
              "    <tr>\n",
              "      <th>Rainfall</th>\n",
              "      <td>3261</td>\n",
              "      <td>0.022419</td>\n",
              "    </tr>\n",
              "    <tr>\n",
              "      <th>WindSpeed3pm</th>\n",
              "      <td>3062</td>\n",
              "      <td>0.021050</td>\n",
              "    </tr>\n",
              "    <tr>\n",
              "      <th>Humidity9am</th>\n",
              "      <td>2654</td>\n",
              "      <td>0.018246</td>\n",
              "    </tr>\n",
              "    <tr>\n",
              "      <th>WindSpeed9am</th>\n",
              "      <td>1767</td>\n",
              "      <td>0.012148</td>\n",
              "    </tr>\n",
              "    <tr>\n",
              "      <th>Temp9am</th>\n",
              "      <td>1767</td>\n",
              "      <td>0.012148</td>\n",
              "    </tr>\n",
              "    <tr>\n",
              "      <th>MinTemp</th>\n",
              "      <td>1485</td>\n",
              "      <td>0.010209</td>\n",
              "    </tr>\n",
              "    <tr>\n",
              "      <th>MaxTemp</th>\n",
              "      <td>1261</td>\n",
              "      <td>0.008669</td>\n",
              "    </tr>\n",
              "    <tr>\n",
              "      <th>Location</th>\n",
              "      <td>0</td>\n",
              "      <td>0.000000</td>\n",
              "    </tr>\n",
              "    <tr>\n",
              "      <th>Date</th>\n",
              "      <td>0</td>\n",
              "      <td>0.000000</td>\n",
              "    </tr>\n",
              "  </tbody>\n",
              "</table>\n",
              "</div>"
            ],
            "text/plain": [
              "               Total   Percent\n",
              "Sunshine       69835  0.480098\n",
              "Evaporation    62790  0.431665\n",
              "Cloud3pm       59358  0.408071\n",
              "Cloud9am       55888  0.384216\n",
              "Pressure9am    15065  0.103568\n",
              "Pressure3pm    15028  0.103314\n",
              "WindDir9am     10566  0.072639\n",
              "WindGustDir    10326  0.070989\n",
              "WindGustSpeed  10263  0.070555\n",
              "Humidity3pm     4507  0.030984\n",
              "WindDir3pm      4228  0.029066\n",
              "Temp3pm         3609  0.024811\n",
              "RainTomorrow    3267  0.022460\n",
              "RainToday       3261  0.022419\n",
              "Rainfall        3261  0.022419\n",
              "WindSpeed3pm    3062  0.021050\n",
              "Humidity9am     2654  0.018246\n",
              "WindSpeed9am    1767  0.012148\n",
              "Temp9am         1767  0.012148\n",
              "MinTemp         1485  0.010209\n",
              "MaxTemp         1261  0.008669\n",
              "Location           0  0.000000\n",
              "Date               0  0.000000"
            ]
          },
          "metadata": {
            "tags": []
          },
          "execution_count": 6
        }
      ]
    },
    {
      "cell_type": "code",
      "metadata": {
        "execution": {
          "iopub.execute_input": "2021-03-07T17:40:04.982324Z",
          "iopub.status.busy": "2021-03-07T17:40:04.981521Z",
          "iopub.status.idle": "2021-03-07T17:40:04.994494Z",
          "shell.execute_reply": "2021-03-07T17:40:04.994866Z"
        },
        "papermill": {
          "duration": 0.035949,
          "end_time": "2021-03-07T17:40:04.995019",
          "exception": false,
          "start_time": "2021-03-07T17:40:04.95907",
          "status": "completed"
        },
        "tags": [],
        "trusted": true,
        "id": "iM4ke4VTS7pL"
      },
      "source": [
        "dropList = list(missing_data[missing_data['Percent'] > 0.15].index)\n",
        "dropList\n",
        "df.drop(dropList, axis=1, inplace=True)"
      ],
      "execution_count": 7,
      "outputs": []
    },
    {
      "cell_type": "code",
      "metadata": {
        "id": "5il_wdpHSxna"
      },
      "source": [
        "df.head()\n",
        "df.drop(['Date'], axis=1, inplace=True)\n",
        "df.drop(['Location'], axis=1, inplace=True)\n"
      ],
      "execution_count": 8,
      "outputs": []
    },
    {
      "cell_type": "code",
      "metadata": {
        "id": "O__sSbSHSxMo",
        "colab": {
          "base_uri": "https://localhost:8080/"
        },
        "outputId": "603ec53d-524c-4a4b-d5b2-31f2ed86aa28"
      },
      "source": [
        "ohe = pd.get_dummies(data=df, columns=['WindGustDir','WindDir9am','WindDir3pm'])\n",
        "ohe.info()\n",
        "from sklearn import preprocessing\n",
        "from numpy import array\n",
        "\n",
        "ohe['RainToday'] = df['RainToday'].astype(str)\n",
        "ohe['RainTomorrow'] = df['RainTomorrow'].astype(str)\n",
        "\n",
        "lb = preprocessing.LabelBinarizer()\n",
        "\n",
        "ohe['RainToday'] = lb.fit_transform(ohe['RainToday'])\n",
        "ohe['RainTomorrow'] = lb.fit_transform(ohe['RainTomorrow'])\n",
        "ohe = ohe.dropna()\n",
        "#ohe.drop('Location', axis=1, inplace=True)\n",
        "y = ohe['RainTomorrow']\n",
        "X = ohe.drop(['RainTomorrow'], axis=1)"
      ],
      "execution_count": 9,
      "outputs": [
        {
          "output_type": "stream",
          "text": [
            "<class 'pandas.core.frame.DataFrame'>\n",
            "RangeIndex: 145460 entries, 0 to 145459\n",
            "Data columns (total 62 columns):\n",
            " #   Column           Non-Null Count   Dtype  \n",
            "---  ------           --------------   -----  \n",
            " 0   MinTemp          143975 non-null  float64\n",
            " 1   MaxTemp          144199 non-null  float64\n",
            " 2   Rainfall         142199 non-null  float64\n",
            " 3   WindGustSpeed    135197 non-null  float64\n",
            " 4   WindSpeed9am     143693 non-null  float64\n",
            " 5   WindSpeed3pm     142398 non-null  float64\n",
            " 6   Humidity9am      142806 non-null  float64\n",
            " 7   Humidity3pm      140953 non-null  float64\n",
            " 8   Pressure9am      130395 non-null  float64\n",
            " 9   Pressure3pm      130432 non-null  float64\n",
            " 10  Temp9am          143693 non-null  float64\n",
            " 11  Temp3pm          141851 non-null  float64\n",
            " 12  RainToday        142199 non-null  object \n",
            " 13  RainTomorrow     142193 non-null  object \n",
            " 14  WindGustDir_E    145460 non-null  uint8  \n",
            " 15  WindGustDir_ENE  145460 non-null  uint8  \n",
            " 16  WindGustDir_ESE  145460 non-null  uint8  \n",
            " 17  WindGustDir_N    145460 non-null  uint8  \n",
            " 18  WindGustDir_NE   145460 non-null  uint8  \n",
            " 19  WindGustDir_NNE  145460 non-null  uint8  \n",
            " 20  WindGustDir_NNW  145460 non-null  uint8  \n",
            " 21  WindGustDir_NW   145460 non-null  uint8  \n",
            " 22  WindGustDir_S    145460 non-null  uint8  \n",
            " 23  WindGustDir_SE   145460 non-null  uint8  \n",
            " 24  WindGustDir_SSE  145460 non-null  uint8  \n",
            " 25  WindGustDir_SSW  145460 non-null  uint8  \n",
            " 26  WindGustDir_SW   145460 non-null  uint8  \n",
            " 27  WindGustDir_W    145460 non-null  uint8  \n",
            " 28  WindGustDir_WNW  145460 non-null  uint8  \n",
            " 29  WindGustDir_WSW  145460 non-null  uint8  \n",
            " 30  WindDir9am_E     145460 non-null  uint8  \n",
            " 31  WindDir9am_ENE   145460 non-null  uint8  \n",
            " 32  WindDir9am_ESE   145460 non-null  uint8  \n",
            " 33  WindDir9am_N     145460 non-null  uint8  \n",
            " 34  WindDir9am_NE    145460 non-null  uint8  \n",
            " 35  WindDir9am_NNE   145460 non-null  uint8  \n",
            " 36  WindDir9am_NNW   145460 non-null  uint8  \n",
            " 37  WindDir9am_NW    145460 non-null  uint8  \n",
            " 38  WindDir9am_S     145460 non-null  uint8  \n",
            " 39  WindDir9am_SE    145460 non-null  uint8  \n",
            " 40  WindDir9am_SSE   145460 non-null  uint8  \n",
            " 41  WindDir9am_SSW   145460 non-null  uint8  \n",
            " 42  WindDir9am_SW    145460 non-null  uint8  \n",
            " 43  WindDir9am_W     145460 non-null  uint8  \n",
            " 44  WindDir9am_WNW   145460 non-null  uint8  \n",
            " 45  WindDir9am_WSW   145460 non-null  uint8  \n",
            " 46  WindDir3pm_E     145460 non-null  uint8  \n",
            " 47  WindDir3pm_ENE   145460 non-null  uint8  \n",
            " 48  WindDir3pm_ESE   145460 non-null  uint8  \n",
            " 49  WindDir3pm_N     145460 non-null  uint8  \n",
            " 50  WindDir3pm_NE    145460 non-null  uint8  \n",
            " 51  WindDir3pm_NNE   145460 non-null  uint8  \n",
            " 52  WindDir3pm_NNW   145460 non-null  uint8  \n",
            " 53  WindDir3pm_NW    145460 non-null  uint8  \n",
            " 54  WindDir3pm_S     145460 non-null  uint8  \n",
            " 55  WindDir3pm_SE    145460 non-null  uint8  \n",
            " 56  WindDir3pm_SSE   145460 non-null  uint8  \n",
            " 57  WindDir3pm_SSW   145460 non-null  uint8  \n",
            " 58  WindDir3pm_SW    145460 non-null  uint8  \n",
            " 59  WindDir3pm_W     145460 non-null  uint8  \n",
            " 60  WindDir3pm_WNW   145460 non-null  uint8  \n",
            " 61  WindDir3pm_WSW   145460 non-null  uint8  \n",
            "dtypes: float64(12), object(2), uint8(48)\n",
            "memory usage: 22.2+ MB\n"
          ],
          "name": "stdout"
        }
      ]
    },
    {
      "cell_type": "code",
      "metadata": {
        "id": "4ETnIW_-SUQz"
      },
      "source": [
        "from sklearn.model_selection import train_test_split\n",
        "X_train, X_test, y_train, y_test = train_test_split(X, y, test_size=0.3, random_state=0)"
      ],
      "execution_count": 12,
      "outputs": []
    },
    {
      "cell_type": "code",
      "metadata": {
        "id": "gpjAvCaESZWN"
      },
      "source": [
        "from sklearn.pipeline import Pipeline\n",
        "from sklearn.preprocessing import StandardScaler\n",
        "from sklearn.ensemble import RandomForestClassifier\n",
        "from sklearn.model_selection import GridSearchCV"
      ],
      "execution_count": 13,
      "outputs": []
    },
    {
      "cell_type": "code",
      "metadata": {
        "id": "CzHgA-f1Sgl2"
      },
      "source": [
        "pipe = Pipeline([('scaler', StandardScaler()), ('RFC', RandomForestClassifier(criterion='gini', \n",
        "                                                                              max_depth=10, \n",
        "                                                                              max_features='auto',\n",
        "                                                                              n_estimators=200))])"
      ],
      "execution_count": 16,
      "outputs": []
    },
    {
      "cell_type": "code",
      "metadata": {
        "colab": {
          "base_uri": "https://localhost:8080/"
        },
        "id": "50927wx0SnaP",
        "outputId": "5a053b0a-7e1a-49ef-b937-de8478acbebe"
      },
      "source": [
        "pipe.fit(X_train, y_train)"
      ],
      "execution_count": 17,
      "outputs": [
        {
          "output_type": "execute_result",
          "data": {
            "text/plain": [
              "Pipeline(memory=None,\n",
              "         steps=[('scaler',\n",
              "                 StandardScaler(copy=True, with_mean=True, with_std=True)),\n",
              "                ('RFC',\n",
              "                 RandomForestClassifier(bootstrap=True, ccp_alpha=0.0,\n",
              "                                        class_weight=None, criterion='gini',\n",
              "                                        max_depth=10, max_features='auto',\n",
              "                                        max_leaf_nodes=None, max_samples=None,\n",
              "                                        min_impurity_decrease=0.0,\n",
              "                                        min_impurity_split=None,\n",
              "                                        min_samples_leaf=1, min_samples_split=2,\n",
              "                                        min_weight_fraction_leaf=0.0,\n",
              "                                        n_estimators=200, n_jobs=None,\n",
              "                                        oob_score=False, random_state=None,\n",
              "                                        verbose=0, warm_start=False))],\n",
              "         verbose=False)"
            ]
          },
          "metadata": {
            "tags": []
          },
          "execution_count": 17
        }
      ]
    },
    {
      "cell_type": "code",
      "metadata": {
        "colab": {
          "base_uri": "https://localhost:8080/"
        },
        "id": "rfqyuX8pUJ-v",
        "outputId": "b25b313e-e16c-44ae-914a-ea57c1d96334"
      },
      "source": [
        "pipe.score(X_train, y_train)"
      ],
      "execution_count": 18,
      "outputs": [
        {
          "output_type": "execute_result",
          "data": {
            "text/plain": [
              "0.8585075831296134"
            ]
          },
          "metadata": {
            "tags": []
          },
          "execution_count": 18
        }
      ]
    },
    {
      "cell_type": "code",
      "metadata": {
        "colab": {
          "base_uri": "https://localhost:8080/"
        },
        "id": "Om9rafjxUK17",
        "outputId": "bdc8c7e5-47b2-4ffe-c302-b7cd3af71521"
      },
      "source": [
        "from sklearn.model_selection import cross_val_score\n",
        "cross_val_score(pipe, X, y, cv=3)"
      ],
      "execution_count": 19,
      "outputs": [
        {
          "output_type": "execute_result",
          "data": {
            "text/plain": [
              "array([0.83250679, 0.84097989, 0.84117926])"
            ]
          },
          "metadata": {
            "tags": []
          },
          "execution_count": 19
        }
      ]
    },
    {
      "cell_type": "code",
      "metadata": {
        "colab": {
          "base_uri": "https://localhost:8080/"
        },
        "id": "WQnfxSOHUObJ",
        "outputId": "2387c10e-51bf-4df6-95e5-2cdf1ff0d7ea"
      },
      "source": [
        "y_pred = pipe.predict(X_test)\n",
        "\n",
        "from sklearn.metrics import confusion_matrix\n",
        "from sklearn.metrics import accuracy_score\n",
        "\n",
        "#confusion_matrix(y_test, y_pred)\n",
        "accuracy_score(y_test, y_pred)"
      ],
      "execution_count": 20,
      "outputs": [
        {
          "output_type": "execute_result",
          "data": {
            "text/plain": [
              "0.8474041257095389"
            ]
          },
          "metadata": {
            "tags": []
          },
          "execution_count": 20
        }
      ]
    },
    {
      "cell_type": "code",
      "metadata": {
        "colab": {
          "base_uri": "https://localhost:8080/"
        },
        "id": "yeRqCeo-UR-C",
        "outputId": "939ce222-d306-4ecc-a174-15c9683bdad4"
      },
      "source": [
        "from sklearn.metrics import precision_score, recall_score, f1_score\n",
        "\n",
        "#recall_score(y_test, y_pred)\n",
        "#precision_score(y_test, y_pred)\n",
        "f1_score(y_test, y_pred)"
      ],
      "execution_count": 21,
      "outputs": [
        {
          "output_type": "execute_result",
          "data": {
            "text/plain": [
              "0.907881320518178"
            ]
          },
          "metadata": {
            "tags": []
          },
          "execution_count": 21
        }
      ]
    },
    {
      "cell_type": "code",
      "metadata": {
        "colab": {
          "base_uri": "https://localhost:8080/",
          "height": 312
        },
        "id": "9p392diOUW7A",
        "outputId": "e45a49da-f1a1-4515-bb8a-f29f24595edf"
      },
      "source": [
        "from sklearn.metrics import roc_curve\n",
        "from sklearn.metrics import roc_auc_score\n",
        "\n",
        "ns_probs = [0 for _ in range(len(y_test))]\n",
        "lr_probs = pipe.predict_proba(X_test)\n",
        "lr_probs = lr_probs[:, 1]\n",
        "\n",
        "ns_auc = roc_auc_score(y_test, ns_probs)\n",
        "lr_auc = roc_auc_score(y_test, lr_probs)\n",
        "\n",
        "print('No Skill: ROC AUC=%.3f' % (ns_auc))\n",
        "print('RFC: ROC AUC=%.3f' % (lr_auc))\n",
        "\n",
        "# calculate roc curves\n",
        "ns_fpr, ns_tpr, _ = roc_curve(y_test, ns_probs)\n",
        "lr_fpr, lr_tpr, _ = roc_curve(y_test, lr_probs)\n",
        "# plot the roc curve for the model\n",
        "plt.plot(ns_fpr, ns_tpr, linestyle='--', label='Dummy Classifer')\n",
        "plt.plot(lr_fpr, lr_tpr, marker='.', label='RFC')\n",
        "# axis labels\n",
        "plt.xlabel('False Positive Rate')\n",
        "plt.ylabel('True Positive Rate')\n",
        "# show the legend\n",
        "plt.legend()\n",
        "# show the plot\n",
        "plt.show()"
      ],
      "execution_count": 22,
      "outputs": [
        {
          "output_type": "stream",
          "text": [
            "No Skill: ROC AUC=0.500\n",
            "RFC: ROC AUC=0.862\n"
          ],
          "name": "stdout"
        },
        {
          "output_type": "display_data",
          "data": {
            "image/png": "[encoded data removed]",
            "text/plain": [
              "<Figure size 432x288 with 1 Axes>"
            ]
          },
          "metadata": {
            "tags": [],
            "needs_background": "light"
          }
        }
      ]
    },
    {
      "cell_type": "code",
      "metadata": {
        "colab": {
          "base_uri": "https://localhost:8080/",
          "height": 283
        },
        "id": "rwp2CugSUi5v",
        "outputId": "0ff08e73-4168-4f19-f397-2a38437055c2"
      },
      "source": [
        "from sklearn.metrics import precision_recall_curve\n",
        "y_scores = pipe.predict_proba(X_train)[:,1]\n",
        "#y_scores\n",
        "\n",
        "precisions, recalls, thresholds = precision_recall_curve(y_train, y_scores)\n",
        "\n",
        "def plot_prc (precisions, recalls, thresholds):\n",
        "    plt.plot(thresholds, precisions[:-1], 'b--', label='Precision')\n",
        "    plt.plot(thresholds, recalls[:-1], 'g-', label='Recall')\n",
        "    plt.xlabel('Thresholds')\n",
        "    plt.legend(loc='center left')\n",
        "    plt.ylim([0,1])\n",
        "\n",
        "plot_prc(precisions, recalls, thresholds)"
      ],
      "execution_count": 23,
      "outputs": [
        {
          "output_type": "display_data",
          "data": {
            "image/png": "[encoded data removed]",
            "text/plain": [
              "<Figure size 432x288 with 1 Axes>"
            ]
          },
          "metadata": {
            "tags": [],
            "needs_background": "light"
          }
        }
      ]
    },
    {
      "cell_type": "code",
      "metadata": {
        "colab": {
          "base_uri": "https://localhost:8080/"
        },
        "id": "Fh_gEH6ZUjjM",
        "outputId": "d11b87eb-aec8-4ef0-e379-89870e717677"
      },
      "source": [
        "#y_pred = clf.predict(X_test)  # default threshold is 0.5\n",
        "y_pred1 = (pipe.predict_proba(X_train)[:,1] >= 0.8).astype(int) # set threshold as 0.3\n",
        "precision_score(y_train, y_pred1)"
      ],
      "execution_count": 24,
      "outputs": [
        {
          "output_type": "execute_result",
          "data": {
            "text/plain": [
              "0.9381189050792575"
            ]
          },
          "metadata": {
            "tags": []
          },
          "execution_count": 24
        }
      ]
    }
  ]
}